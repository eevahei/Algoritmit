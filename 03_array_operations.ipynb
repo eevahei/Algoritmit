{
 "cells": [
  {
   "cell_type": "markdown",
   "id": "94c3f315",
   "metadata": {},
   "source": [
    "# Assignment 3\n",
    "\n",
    "These assignments are related to different **array operations** like _comparison_ and _sorting_.\n",
    "* Read the related course material before doing the assignments from the [Array sorting](https://ttc1050.pages.labranet.jamk.fi/ds_alg_material/materials/03_array_sorting/).\n",
    "\n",
    "General notes of assignments:\n",
    "* NOTE! In general, after the implementation of the function, all assignments have a test program for the function.\n",
    "* NOTE! Add your code in the assignments only after the TODO lines."
   ]
  },
  {
   "cell_type": "markdown",
   "id": "68f3ca08",
   "metadata": {},
   "source": [
    "## Assignment 3.1 (1 p)\n",
    "\n",
    "Create an algorithm, that compares the content of two arrays and\n",
    "returns all indexes where elements are different in these arrays.\n",
    "\n",
    "You should use the following string format (see also `correct_answer_03_01`):\n",
    "\n",
    "  ``index i: first[i] != second[i]``\n",
    "\n",
    "Put all the differences you find into a list variable `comp_result` and compare it to the correct answer `correct_answer_03_01`.\n",
    "\n",
    "Note! The test program has already been implemented, so please don't edit it."
   ]
  },
  {
   "cell_type": "code",
   "execution_count": null,
   "id": "02c1db8c",
   "metadata": {
    "ExecuteTime": {
     "end_time": "2024-01-05T13:47:12.331273700Z",
     "start_time": "2024-01-05T13:47:10.392431700Z"
    },
    "lines_to_next_cell": 2
   },
   "outputs": [
    {
     "ename": "",
     "evalue": "",
     "output_type": "error",
     "traceback": [
      "\u001b[1;31mRunning cells with 'c:\\Users\\Eeva Heikkilä\\AppData\\Local\\Microsoft\\WindowsApps\\python3.11.exe' requires the ipykernel package.\n",
      "\u001b[1;31mRun the following command to install 'ipykernel' into the Python environment. \n",
      "\u001b[1;31mCommand: '\"c:/Users/Eeva Heikkilä/AppData/Local/Microsoft/WindowsApps/python3.11.exe\" -m pip install ipykernel -U --user --force-reinstall'"
     ]
    }
   ],
   "source": [
    "correct_answer_03_01 = ['index 0: a != e', 'index 3: d != g', 'index 4: e != a', 'index 6: g != d']\n",
    "\n",
    "first = ['a', 'b', 'c', 'd', 'e', 'f', 'g', 'h']\n",
    "second = ['e', 'b', 'c', 'g', 'a', 'f', 'd', 'h']\n",
    "\n",
    "def compare(a, b):\n",
    "    differencies = [] \n",
    "    for i, j in zip(range(len(a)), range(len(b))):\n",
    "        if a[i] != b[j]:\n",
    "            differencies.append(f\"index {i}: {a[i]} != {b[i]}\")\n",
    "    return differencies\n",
    "\n",
    "# Test\n",
    "comp_result = compare(first, second)\n",
    "\n",
    "assert len(comp_result) == 4, \"Error in length\"\n",
    "assert comp_result == correct_answer_03_01\n",
    "print(f\"answer {comp_result} was OK!\")"
   ]
  },
  {
   "cell_type": "markdown",
   "id": "e073947c",
   "metadata": {},
   "source": [
    "## Assignment 3.2 (1 p)\n",
    "\n",
    "Create own implementation of bubble sort algorithm.\n",
    "\n",
    "The `letters` list is defined at the beginning of the assignment contains letters. Please don't modify it.\n",
    "\n",
    "Sort `letters` list using `bubble_sort()` function, the algorithm of which is given as ready-made pseudocode in the assignment's comments.\n",
    "* Note! To clarify the Python implementation difference from the pseudocode, it's important not to sort the original list provided as an argument but rather create a new list within the `bubble_sort()` function.\n",
    "\n",
    "Note! The test program has already been implemented, so please don't edit it."
   ]
  },
  {
   "cell_type": "code",
   "execution_count": null,
   "id": "c6ab48e2",
   "metadata": {
    "ExecuteTime": {
     "end_time": "2024-01-05T13:59:22.053617900Z",
     "start_time": "2024-01-05T13:59:21.980041500Z"
    }
   },
   "outputs": [
    {
     "ename": "",
     "evalue": "",
     "output_type": "error",
     "traceback": [
      "\u001b[1;31mRunning cells with 'c:\\Users\\Eeva Heikkilä\\AppData\\Local\\Microsoft\\WindowsApps\\python3.11.exe' requires the ipykernel package.\n",
      "\u001b[1;31mRun the following command to install 'ipykernel' into the Python environment. \n",
      "\u001b[1;31mCommand: '\"c:/Users/Eeva Heikkilä/AppData/Local/Microsoft/WindowsApps/python3.11.exe\" -m pip install ipykernel -U --user --force-reinstall'"
     ]
    }
   ],
   "source": [
    "correct_answer_03_02 = ['a', 'b', 'c', 'd', 'e', 'f', 'g', 'h', 'i', 'j', 'k', 'l']\n",
    "\n",
    "letters = ['i', 'j', 'b','h','l','a','k','c','g','f','e','d']\n",
    "\n",
    "# procedure bubbleSort(A : list of sortable items)\n",
    "#     n := length(A)\n",
    "#     repeat\n",
    "#         swapped := false\n",
    "#         for i := 1 to n-1 inclusive do\n",
    "#             { if this pair is out of order }\n",
    "#             if A[i-1] > A[i] then\n",
    "#                 { swap them and remember something changed }\n",
    "#                 swap(A[i-1], A[i])\n",
    "#                 swapped := true\n",
    "#             end if\n",
    "#         end for\n",
    "#     until not swapped\n",
    "# end procedure\n",
    "\n",
    "def bubble_sort(a):\n",
    "    sorted = []\n",
    "    # TODO: Sort list and return sorted list with your own implementation of bubble sort.\n",
    "    return sorted\n",
    "\n",
    "\n",
    "\n",
    "# Test\n",
    "sorted_letters = bubble_sort(letters)\n",
    "print(letters)\n",
    "assert letters != sorted_letters\n",
    "assert sorted_letters == correct_answer_03_02\n",
    "print(f\"answer {sorted_letters} was OK!\")\n",
    "\n"
   ]
  },
  {
   "cell_type": "markdown",
   "id": "c29fbfcc",
   "metadata": {},
   "source": [
    "## Assignment 3.3 (1 p)\n",
    "\n",
    "Create an algorithm that performs the following operations in order:\n",
    "1. Prompt the user for the array size.\n",
    "2. Accept user input for values (as `str`) until the array is filled, and populate the array with non-empty elements.\n",
    "3. Sort the array in ascending order using the `bubble_sort()` function developed in **assignment 3.2**.\n",
    "\n",
    "Note! The test program has already been implemented, so please don't edit it."
   ]
  },
  {
   "cell_type": "code",
   "execution_count": null,
   "id": "76ffb111",
   "metadata": {
    "ExecuteTime": {
     "end_time": "2024-01-05T13:59:27.212017600Z",
     "start_time": "2024-01-05T13:59:27.124834800Z"
    }
   },
   "outputs": [
    {
     "ename": "",
     "evalue": "",
     "output_type": "error",
     "traceback": [
      "\u001b[1;31mRunning cells with 'c:\\Users\\Eeva Heikkilä\\AppData\\Local\\Microsoft\\WindowsApps\\python3.11.exe' requires the ipykernel package.\n",
      "\u001b[1;31mRun the following command to install 'ipykernel' into the Python environment. \n",
      "\u001b[1;31mCommand: '\"c:/Users/Eeva Heikkilä/AppData/Local/Microsoft/WindowsApps/python3.11.exe\" -m pip install ipykernel -U --user --force-reinstall'"
     ]
    }
   ],
   "source": [
    "\n",
    "import unittest\n",
    "\n",
    "def ask_array_from_user():\n",
    "    # TODO: Prompt the user for the array size.\n",
    "    # TODO: Accept user input for values (as `str`) until the array is filled, and populate the array with non-empty elements.\n",
    "    # return created_array\n",
    "    return None\n",
    "\n",
    "\n",
    "# test\n",
    "list_from_user = ask_array_from_user()\n",
    "# TODO: Sort the array in ascending order using the bubble_sort function developed in assignment 3.2.\n",
    "list_sorted = bubble_sort(list_from_user)\n",
    "sorted_arr = sorted(list_from_user)\n",
    "\n",
    "unittest.TestCase().assertListEqual(list_sorted, sorted_arr)\n",
    "print(f\"answer {list_sorted} was OK!\")\n",
    "    "
   ]
  },
  {
   "cell_type": "markdown",
   "id": "32ae9959",
   "metadata": {},
   "source": [
    "\n",
    "## Assignment 3.4 (1 p)\n",
    "\n",
    "Compare sorting algorithms by taking their execution times.\n",
    "\n",
    "Use the `random` module in Python to generate a list of 10 000 random numbers by using the `random.randint()` function.\n",
    "Compare how long it takes to execute the algorithm with Python's standard `sort()` function or with your own `bubble_sort()` function.\n",
    "Use the `timeit` module to measure the execution time of each sorting method.\n",
    "\n",
    "Do the following task in the test program.\n",
    "1. Generate a list of 10,000 random numbers\n",
    "2. Take the time it takes to execute the Python standard function `sorted()`\n",
    "3. Take the time it takes to execute the own implementation of `bubble_sort()` function.\n",
    "\n",
    "Please don't edit `print()` functions which shows the end times."
   ]
  },
  {
   "cell_type": "code",
   "execution_count": null,
   "id": "f43094ab",
   "metadata": {
    "ExecuteTime": {
     "end_time": "2024-01-05T13:59:35.745405Z",
     "start_time": "2024-01-05T13:59:35.738713400Z"
    }
   },
   "outputs": [
    {
     "ename": "",
     "evalue": "",
     "output_type": "error",
     "traceback": [
      "\u001b[1;31mRunning cells with 'c:\\Users\\Eeva Heikkilä\\AppData\\Local\\Microsoft\\WindowsApps\\python3.11.exe' requires the ipykernel package.\n",
      "\u001b[1;31mRun the following command to install 'ipykernel' into the Python environment. \n",
      "\u001b[1;31mCommand: '\"c:/Users/Eeva Heikkilä/AppData/Local/Microsoft/WindowsApps/python3.11.exe\" -m pip install ipykernel -U --user --force-reinstall'"
     ]
    }
   ],
   "source": [
    "import random\n",
    "import timeit\n",
    "\n",
    "# No implementation needed. Use the previous implementation of bubble_sort() function.\n",
    "\n",
    "# Test\n",
    "# TODO: Generate a list of 10,000 random numbers\n",
    "random_numbers = []\n",
    "\n",
    "# TODO: Time the execution of sorted() function\n",
    "time_sorted = 1.1\n",
    "# TODO: Time the execution of bubble_sort() function\n",
    "time_bubble_sort = 3.4\n",
    "\n",
    "# don't edit it these.\n",
    "print(f\"sorted(): {time_sorted:.6f} seconds\")\n",
    "print(f\"bubble_sort(): {time_bubble_sort:.6f} seconds\")\n",
    "print(f\"sorted() vs. bubble_sort(): {(time_sorted/time_bubble_sort)*100:.6f} %\")"
   ]
  }
 ],
 "metadata": {
  "jupytext": {
   "cell_metadata_filter": "-all",
   "main_language": "python",
   "notebook_metadata_filter": "-all"
  },
  "kernelspec": {
   "display_name": "Python 3 (ipykernel)",
   "language": "python",
   "name": "python3"
  },
  "language_info": {
   "name": "python",
   "version": "3.11.8"
  }
 },
 "nbformat": 4,
 "nbformat_minor": 5
}
